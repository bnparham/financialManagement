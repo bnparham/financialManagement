{
 "cells": [
  {
   "cell_type": "code",
   "execution_count": 20,
   "metadata": {},
   "outputs": [],
   "source": [
    "from persiantools.jdatetime import JalaliDate\n",
    "import pandas as pd\n",
    "import math"
   ]
  },
  {
   "cell_type": "code",
   "execution_count": 21,
   "metadata": {},
   "outputs": [],
   "source": [
    "sheet = {'cost':2, 'cost_log':3, 'save':0, 'save_log':1, 'total':4}\n",
    "df = {}\n",
    "for key in sheet:\n",
    "    df[key] = pd.read_excel(\"Financial-1402-1.xlsx\", sheet_name=sheet[key])"
   ]
  },
  {
   "cell_type": "code",
   "execution_count": 22,
   "metadata": {},
   "outputs": [],
   "source": [
    "# get date now\n",
    "date_now = JalaliDate.today()\n",
    "\n",
    "# week of month number\n",
    "week_of_month = math.ceil(date_now.day / 7)\n",
    "\n",
    "# day name\n",
    "get_day = date_now.strftime('%A')\n",
    "# day id\n",
    "get_day_id = date_now.weekday()\n",
    "# month name\n",
    "get_month = date_now.strftime('%B')\n",
    "# month id\n",
    "get_month_id = date_now.month\n",
    "\n",
    "\n"
   ]
  },
  {
   "cell_type": "code",
   "execution_count": 29,
   "metadata": {},
   "outputs": [
    {
     "data": {
      "text/plain": [
       "False"
      ]
     },
     "execution_count": 29,
     "metadata": {},
     "output_type": "execute_result"
    }
   ],
   "source": [
    "df_save = df['total']\n",
    "# df_save[df['save']['month_id'] == get_month_id]['sum'].sum()\n",
    "a = df_save['month_id'] == get_month_id\n",
    "a.any()"
   ]
  }
 ],
 "metadata": {
  "kernelspec": {
   "display_name": "env",
   "language": "python",
   "name": "python3"
  },
  "language_info": {
   "codemirror_mode": {
    "name": "ipython",
    "version": 3
   },
   "file_extension": ".py",
   "mimetype": "text/x-python",
   "name": "python",
   "nbconvert_exporter": "python",
   "pygments_lexer": "ipython3",
   "version": "3.10.5"
  },
  "orig_nbformat": 4
 },
 "nbformat": 4,
 "nbformat_minor": 2
}
