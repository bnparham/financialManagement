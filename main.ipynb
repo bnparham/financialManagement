{
 "cells": [
  {
   "cell_type": "code",
   "execution_count": 28,
   "metadata": {},
   "outputs": [],
   "source": [
    "from persiantools.jdatetime import JalaliDate\n",
    "import pandas as pd\n",
    "import math"
   ]
  },
  {
   "cell_type": "code",
   "execution_count": 29,
   "metadata": {},
   "outputs": [],
   "source": [
    "sheet = {'cost':2, 'cost_log':3, 'save':0, 'save_log':1, 'total':4}\n",
    "df = {}\n",
    "for key in sheet:\n",
    "    df[key] = pd.read_excel(\"Financial-1402-1.xlsx\", sheet_name=sheet[key])"
   ]
  },
  {
   "cell_type": "code",
   "execution_count": 30,
   "metadata": {},
   "outputs": [],
   "source": [
    "# get date now\n",
    "date_now = JalaliDate.today()\n",
    "\n",
    "# week of month number\n",
    "week_of_month = math.ceil(date_now.day / 7)\n",
    "\n",
    "# day name\n",
    "get_day = date_now.strftime('%A')\n",
    "# day id\n",
    "get_day_id = date_now.weekday()\n",
    "# month name\n",
    "get_month = date_now.strftime('%B')\n",
    "# month id\n",
    "get_month_id = date_now.month\n",
    "\n",
    "\n"
   ]
  },
  {
   "cell_type": "code",
   "execution_count": 31,
   "metadata": {},
   "outputs": [
    {
     "data": {
      "text/html": [
       "<div>\n",
       "<style scoped>\n",
       "    .dataframe tbody tr th:only-of-type {\n",
       "        vertical-align: middle;\n",
       "    }\n",
       "\n",
       "    .dataframe tbody tr th {\n",
       "        vertical-align: top;\n",
       "    }\n",
       "\n",
       "    .dataframe thead th {\n",
       "        text-align: right;\n",
       "    }\n",
       "</style>\n",
       "<table border=\"1\" class=\"dataframe\">\n",
       "  <thead>\n",
       "    <tr style=\"text-align: right;\">\n",
       "      <th></th>\n",
       "      <th>id</th>\n",
       "      <th>month_id</th>\n",
       "      <th>week_id</th>\n",
       "      <th>day_id</th>\n",
       "      <th>day</th>\n",
       "      <th>sum</th>\n",
       "      <th>date</th>\n",
       "    </tr>\n",
       "  </thead>\n",
       "  <tbody>\n",
       "    <tr>\n",
       "      <th>0</th>\n",
       "      <td>0</td>\n",
       "      <td>7</td>\n",
       "      <td>1</td>\n",
       "      <td>0</td>\n",
       "      <td>1</td>\n",
       "      <td>570000</td>\n",
       "      <td>1402/07/01</td>\n",
       "    </tr>\n",
       "    <tr>\n",
       "      <th>1</th>\n",
       "      <td>1</td>\n",
       "      <td>7</td>\n",
       "      <td>1</td>\n",
       "      <td>1</td>\n",
       "      <td>2</td>\n",
       "      <td>70000</td>\n",
       "      <td>1402/07/02</td>\n",
       "    </tr>\n",
       "  </tbody>\n",
       "</table>\n",
       "</div>"
      ],
      "text/plain": [
       "   id  month_id  week_id  day_id  day     sum        date\n",
       "0   0         7        1       0    1  570000  1402/07/01\n",
       "1   1         7        1       1    2   70000  1402/07/02"
      ]
     },
     "execution_count": 31,
     "metadata": {},
     "output_type": "execute_result"
    }
   ],
   "source": [
    "df_save = df['save']\n",
    "# df_save[df['save']['month_id'] == get_month_id]['sum'].sum()\n",
    "# a = df_save['month_id'] == get_month_id\n",
    "# a.any()\n",
    "df_save"
   ]
  }
 ],
 "metadata": {
  "kernelspec": {
   "display_name": "env",
   "language": "python",
   "name": "python3"
  },
  "language_info": {
   "codemirror_mode": {
    "name": "ipython",
    "version": 3
   },
   "file_extension": ".py",
   "mimetype": "text/x-python",
   "name": "python",
   "nbconvert_exporter": "python",
   "pygments_lexer": "ipython3",
   "version": "3.10.5"
  },
  "orig_nbformat": 4
 },
 "nbformat": 4,
 "nbformat_minor": 2
}
